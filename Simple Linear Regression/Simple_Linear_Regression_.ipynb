{
  "nbformat": 4,
  "nbformat_minor": 0,
  "metadata": {
    "colab": {
      "name": "Simple Linear Regression .ipynb",
      "provenance": [],
      "collapsed_sections": []
    },
    "kernelspec": {
      "name": "python3",
      "display_name": "Python 3"
    },
    "language_info": {
      "name": "python"
    }
  },
  "cells": [
    {
      "cell_type": "code",
      "metadata": {
        "id": "IVvREoomzLdU"
      },
      "source": [
        "import numpy as np \n",
        "import pandas as pd\n",
        "import matplotlib.pyplot as plt"
      ],
      "execution_count": 1,
      "outputs": []
    },
    {
      "cell_type": "markdown",
      "metadata": {
        "id": "uvKBVuMAzdY2"
      },
      "source": [
        "**Simple Linear Regression**"
      ]
    },
    {
      "cell_type": "markdown",
      "metadata": {
        "id": "CnT0stZwz13g"
      },
      "source": [
        "Regression is the concept in Machine Learning where we want to find relationship among the variables. \n",
        "\n",
        "**Linear Regression**\n",
        "\n",
        "Simplest regression method is the most widely used and it's easy to interpret its results. \n",
        "\n",
        "To solve this problem we need to understand the Model.\n",
        "\n",
        "For any given predictor/input ${x}$ $\\epsilon$ $\\mathbb{R}$ the simple linear regression model predicts/outputs\n",
        "\n",
        "<p align='center'>$\\hat{Y}(x)$ := $\\hat{\\beta}_0 +\\hat{\\beta}_{x}$ <br></p>\n",
        "\n",
        "with the paramters ($\\hat{\\beta}_0 ,\\hat{\\beta}_{x}$) called <br>\n",
        "$\\hat{\\beta}_0$ Inteercept / Bias <br>\n",
        "$\\hat{\\beta}_1$ Slope<br>\n",
        "\n",
        "To find the Least Square Estimate it can be written in the closed form as follows: \n",
        "<p align = \"center\">$\\hat{\\beta}_1$ = $\\dfrac{\\Sigma_{n=1}^{N}({x_n} - {\\bar{x}})({y_n} - {\\bar{y}})}{\\Sigma_{n=1}^{N}({x_n} - {\\bar{x}})^2}$</p>\n",
        "<p align = \"center\">$\\hat{\\beta}_0$ = $\\bar{y}$ - ${\\beta}_1{\\bar{x}}$<p/> "
      ]
    },
    {
      "cell_type": "markdown",
      "metadata": {
        "id": "fEAzrphN_y8r"
      },
      "source": [
        "**Algorithm 1: Learning Procedure**\n",
        "\n",
        "1. **Procedure**<br>\n",
        "  Learn-simple-linreg $(D^{train}:= \\{(x_1,y_1),...,(x_n,y_n)\\}$ $\\epsilon$ $\\mathbb{R}$ x $\\mathbb{R}$)<br>\n",
        "2. $\\hspace{2em}$ $\\bar{x} := \\frac{1}{N}\\sum_{n=1}^{N}{x_n}$\n",
        "3. $\\hspace{2em}$ $\\bar{y} := \\frac{1}{N}\\sum_{n=1}^{N}{y_n}$\n",
        "4. $\\hspace{2em}$ $\\hat{\\beta}_1$ = $\\dfrac{\\Sigma_{n=1}^{N}({x_n} - {\\bar{x}})({y_n} - {\\bar{y}})}{\\Sigma_{n=1}^{N}({x_n} - {\\bar{x}})^2}$<br>\n",
        "5. $\\hspace{2em}$ $\\hat{\\beta}_0$ = $\\bar{y}$ - ${\\beta}_1{\\bar{x}}$<br>\n",
        "6. $\\hspace{2em}$ **return** ($\\hat{\\beta}_0$, $\\hat{\\beta}_1$)\n",
        "\n",
        "**Algorithm 2: Prediction Procedure**\n",
        "\n",
        "1. **Procedure** Predict-simple-linreg(x $\\epsilon$ $\\mathbb{R}$,$\\hat{\\beta}_0$, $\\hat{\\beta}_1$ $\\epsilon$ $\\mathbb{R}$)<br>\n",
        "2. $\\hspace{2em}$ $\\hat{y}$ := $\\hat{\\beta}_0 +\\hat{\\beta}_{x}$ <br>\n",
        "3. $\\hspace{2em}$ **return** $\\hat{y}$"
      ]
    },
    {
      "cell_type": "code",
      "metadata": {
        "colab": {
          "base_uri": "https://localhost:8080/"
        },
        "id": "UUyOHKJiGOBJ",
        "outputId": "00b20b79-b0c5-4f06-b48f-3f8613ff834b"
      },
      "source": [
        "# We are going to create a normal Distributed Matrix of size 100,2\n",
        "A = np.random.normal(2,0.01,size=(100,2))\n",
        "print(A)"
      ],
      "execution_count": 2,
      "outputs": [
        {
          "output_type": "stream",
          "name": "stdout",
          "text": [
            "[[2.02184297 1.98687993]\n",
            " [2.01054637 2.00455662]\n",
            " [1.98757799 1.98976885]\n",
            " [1.99225246 1.9899252 ]\n",
            " [2.01117542 2.00516657]\n",
            " [1.99390971 2.01351399]\n",
            " [1.99548122 1.9996311 ]\n",
            " [2.012279   2.00118781]\n",
            " [2.00368213 2.00476978]\n",
            " [1.99252498 2.00452833]\n",
            " [1.99547321 2.00077416]\n",
            " [1.99851369 1.99339313]\n",
            " [2.00784065 1.97917653]\n",
            " [1.99563274 1.99978874]\n",
            " [2.00169754 1.99972236]\n",
            " [1.99142935 1.99767508]\n",
            " [1.98535071 2.00142329]\n",
            " [1.99434359 1.99841284]\n",
            " [1.99542948 2.00723996]\n",
            " [1.99835616 1.98236842]\n",
            " [1.99976881 2.01437988]\n",
            " [1.99781394 2.00598559]\n",
            " [1.99812631 1.99396283]\n",
            " [1.99448067 1.99983119]\n",
            " [1.9714586  1.9939034 ]\n",
            " [1.99450422 2.01112591]\n",
            " [1.98825599 1.99635934]\n",
            " [2.00620369 2.0043559 ]\n",
            " [2.01671799 2.00728827]\n",
            " [1.9985686  2.00189198]\n",
            " [2.00753247 1.99404219]\n",
            " [2.0127108  2.00625559]\n",
            " [2.00433098 1.99331289]\n",
            " [1.98792452 1.9930373 ]\n",
            " [2.01049439 1.99602664]\n",
            " [1.99859746 1.99544306]\n",
            " [1.99390895 1.98733949]\n",
            " [2.00456314 2.02480246]\n",
            " [1.99820514 1.99940155]\n",
            " [2.01064931 2.00261553]\n",
            " [2.01697181 1.99789678]\n",
            " [2.01534662 2.01038068]\n",
            " [1.97546901 1.99162182]\n",
            " [2.000886   2.01266605]\n",
            " [1.9916155  1.99294593]\n",
            " [2.018889   1.99351204]\n",
            " [2.0099864  1.99341406]\n",
            " [2.00188401 1.99210436]\n",
            " [2.00374301 2.01507101]\n",
            " [1.99496079 1.97579513]\n",
            " [2.01323868 2.01376475]\n",
            " [1.99888289 1.99480607]\n",
            " [2.01561559 2.01670466]\n",
            " [1.99077157 2.00712313]\n",
            " [1.99881347 1.99846269]\n",
            " [1.99813504 1.98600616]\n",
            " [1.99374024 1.98418823]\n",
            " [2.00427699 1.99647242]\n",
            " [1.98131342 2.00158904]\n",
            " [1.99563763 1.99443464]\n",
            " [2.00608243 2.00085494]\n",
            " [2.0025584  2.00564308]\n",
            " [2.00412936 1.9847641 ]\n",
            " [1.9978487  2.0186255 ]\n",
            " [2.00320268 2.0027281 ]\n",
            " [1.98878959 2.01189045]\n",
            " [1.98413916 1.98742639]\n",
            " [1.99812148 1.99700152]\n",
            " [1.98841898 1.99582518]\n",
            " [1.99931096 1.99521648]\n",
            " [1.99232641 2.00439373]\n",
            " [2.00040557 1.99734677]\n",
            " [1.99632993 1.99842702]\n",
            " [2.00394018 2.01064201]\n",
            " [1.98754761 1.97890135]\n",
            " [1.99620247 2.00625468]\n",
            " [1.99655195 1.98017348]\n",
            " [1.99305848 2.00504786]\n",
            " [2.01401191 1.98785391]\n",
            " [2.00743104 1.99785315]\n",
            " [2.00333005 2.00053589]\n",
            " [1.9981978  2.00416079]\n",
            " [1.99073286 2.00792097]\n",
            " [2.00236546 2.00686288]\n",
            " [1.99309696 1.99768598]\n",
            " [2.01586128 1.9976604 ]\n",
            " [2.00179832 2.01607204]\n",
            " [1.99641061 1.98187523]\n",
            " [1.99709276 2.0001199 ]\n",
            " [2.00802609 1.99389016]\n",
            " [1.98253824 2.00939148]\n",
            " [1.99554218 1.98883092]\n",
            " [1.99026051 2.00097949]\n",
            " [1.98439532 2.00406227]\n",
            " [1.99480479 1.99665635]\n",
            " [1.99038759 1.98620704]\n",
            " [2.00890581 2.00019829]\n",
            " [1.99119315 2.00440755]\n",
            " [2.00124668 2.00911486]\n",
            " [2.01475293 2.0200852 ]]\n"
          ]
        }
      ]
    },
    {
      "cell_type": "code",
      "metadata": {
        "id": "HqxZZze3G8NP"
      },
      "source": [
        "#Now we will split the data inot X and Y variables respectively.\n",
        "def split():\n",
        "  x,y = A[:,0],A[:,1]\n",
        "  return x, y"
      ],
      "execution_count": 3,
      "outputs": []
    },
    {
      "cell_type": "code",
      "metadata": {
        "id": "hQPMhjpeQTFV"
      },
      "source": [
        "X,Y = split()"
      ],
      "execution_count": 4,
      "outputs": []
    },
    {
      "cell_type": "code",
      "metadata": {
        "id": "KZ6fHWU8LE3S"
      },
      "source": [
        "# Now we will perform the Learning algorithm\n",
        "def learnsimplelinreg(X,Y):\n",
        "  X_bar = np.mean(X)\n",
        "  Y_bar = np.mean(Y)\n",
        "\n",
        "#Now calcuate Beta1 as follows\n",
        "  Beta_1 = (np.sum(np.multiply((X-X_bar),(Y-Y_bar))))/(np.sum(np.square(X-X_bar)))\n",
        "\n",
        "#Now lets Calcualte Beta0 as follows\n",
        "  Beta_0 = Y_bar - np.multiply(Beta_1,X_bar)\n",
        "\n",
        "  return (Beta_0,Beta_1)\n"
      ],
      "execution_count": 5,
      "outputs": []
    },
    {
      "cell_type": "code",
      "metadata": {
        "id": "k9e6n9DALO4C"
      },
      "source": [
        "Beta0, Beta1 = learnsimplelinreg(X,Y)"
      ],
      "execution_count": 6,
      "outputs": []
    },
    {
      "cell_type": "code",
      "metadata": {
        "id": "vaxeCj4QOSb1"
      },
      "source": [
        "#Now we will perform the Predicting Algorithm\n",
        "def predictsimplelinreg(X,Beta0,Beta1):\n",
        "  Y_predict =[(Beta1*x) + Beta0 for x in X]\n",
        "  return Y_predict"
      ],
      "execution_count": 7,
      "outputs": []
    },
    {
      "cell_type": "code",
      "metadata": {
        "colab": {
          "base_uri": "https://localhost:8080/"
        },
        "id": "3urxFEwQOug6",
        "outputId": "6e04f3f1-8b89-42f2-db35-e8740e662339"
      },
      "source": [
        "y_predict = predictsimplelinreg(X,Beta0,Beta1)\n",
        "print(y_predict)"
      ],
      "execution_count": 8,
      "outputs": [
        {
          "output_type": "stream",
          "name": "stdout",
          "text": [
            "[2.0032456404860364, 2.001344647472088, 1.9974795273883303, 1.9982661479358885, 2.0014505050507543, 1.9985450305042551, 1.9988094843029625, 2.001636215479062, 2.0001895341328026, 1.9983120080389927, 1.9988081355765208, 1.9993197886114238, 2.000889328953526, 1.9988349816070579, 1.9998555662141821, 1.9981276359216604, 1.9971047205504813, 1.998618043522053, 1.9988007779103278, 1.9992932787548419, 1.9995309996291493, 1.9992020341269776, 1.9992545999023565, 1.9986411115475706, 1.9947669564634933, 1.9986450748746165, 1.997593622499972, 2.0006138613379205, 2.002383209093731, 1.999329029054587, 2.00083746927438, 2.001708878016048, 2.0002987226421136, 1.9975378420979164, 2.0013359001277196, 1.9993338850757456, 1.9985449030702584, 2.0003377906025253, 1.9992678658017067, 2.0013619715306623, 2.002425921503425, 2.0021524349286026, 1.9954418277969355, 1.9997189999773806, 1.9981589606093597, 2.002748546386158, 2.001250417194102, 1.9998869450792487, 2.000199778187925, 1.9987219052368979, 2.0017977103370153, 1.9993819175858956, 2.0021976970669213, 1.9980169433761783, 1.9993702348440139, 1.9992560686186085, 1.998516512106193, 2.0002896363945006, 1.9964253262778784, 1.9988358051196002, 2.0005934553531213, 2.0000004318955593, 2.000264793909301, 1.9992078841968928, 2.00010885091675, 1.997683416960607, 1.9969008412364728, 1.9992537875369685, 1.9976210497529052, 1.9994539528026856, 1.9982785921042225, 1.999638153163316, 1.998952305655469, 2.0002329573332487, 1.9974744154334458, 1.998930856160589, 1.9989896664671265, 1.9984017857576943, 2.001927829587955, 2.0008204006246197, 2.000130285181901, 1.9992666308409732, 1.998010429188405, 1.9999679642413628, 1.9984082612573832, 2.00223904127274, 1.9998725262331059, 1.9989658818165619, 1.9990806740398863, 2.0009205344682424, 1.9966314384320902, 1.9988197430222685, 1.9979309419614184, 1.9969439487035514, 1.9986956536021658, 1.9979523280238125, 2.0010685742828427, 1.9980878875254104, 1.9997796958392913, 2.002052528633779]\n"
          ]
        }
      ]
    },
    {
      "cell_type": "markdown",
      "metadata": {
        "id": "JdzNeipWPDxc"
      },
      "source": [
        "**Plotting**\n",
        "\n",
        "We are going to plot the graph for the actual values as well as the actual and the predicted values. "
      ]
    },
    {
      "cell_type": "code",
      "metadata": {
        "colab": {
          "base_uri": "https://localhost:8080/",
          "height": 533
        },
        "id": "4SLe1aLCPAXB",
        "outputId": "d0fed480-997e-4328-9043-9e845a621ed4"
      },
      "source": [
        "plt.plot(X,Y, 'o',label=\"Given Data\", markersize=7)\n",
        "plt.xticks(size=10) # gives the size of the x values on the axis\n",
        "plt.yticks(size=10) # gives the size of the y values on the y axis \n",
        "plt.plot(X,y_predict, color=\"red\",label=\"Fitted Line\")\n",
        "plt.ylabel(\"Y Axis-values\")\n",
        "plt.xlabel(\"X Axis-values\")\n",
        "plt.title(\"Linear Regression Graph \")\n",
        "plt.legend(loc=\"left\") #it plots the legend for the graph \n",
        "plt.show()# it is used to physically show the output of the graph\n"
      ],
      "execution_count": 9,
      "outputs": [
        {
          "output_type": "stream",
          "name": "stderr",
          "text": [
            "/usr/local/lib/python3.7/dist-packages/ipykernel_launcher.py:8: MatplotlibDeprecationWarning: Unrecognized location 'left'. Falling back on 'best'; valid locations are\n",
            "\tbest\n",
            "\tupper right\n",
            "\tupper left\n",
            "\tlower left\n",
            "\tlower right\n",
            "\tright\n",
            "\tcenter left\n",
            "\tcenter right\n",
            "\tlower center\n",
            "\tupper center\n",
            "\tcenter\n",
            "This will raise an exception in 3.3.\n",
            "  \n"
          ]
        },
        {
          "output_type": "display_data",
          "data": {
            "image/png": "[encoded data removed]",
            "text/plain": [
              "<Figure size 432x288 with 1 Axes>"
            ]
          },
          "metadata": {
            "needs_background": "light"
          }
        }
      ]
    },
    {
      "cell_type": "code",
      "metadata": {
        "id": "rrehgDNvS4B0"
      },
      "source": [
        "# We are going tom create a matrix of length of X with all values as 1.\n",
        "\n",
        "M = np.vstack([X,np.ones(len(X))]).T"
      ],
      "execution_count": 10,
      "outputs": []
    },
    {
      "cell_type": "code",
      "metadata": {
        "colab": {
          "base_uri": "https://localhost:8080/"
        },
        "id": "Ie4kIfvUTNq5",
        "outputId": "b9293939-0173-4c10-c14c-87eee4d32135"
      },
      "source": [
        "# Now we will again predict the Beta0 and Beta1 values as follows with the matrix we created  using the predifined function\n",
        "B1,B0=np.linalg.lstsq(M,Y)[0]\n",
        "print(M)\n"
      ],
      "execution_count": 11,
      "outputs": [
        {
          "output_type": "stream",
          "name": "stdout",
          "text": [
            "[[2.02184297 1.        ]\n",
            " [2.01054637 1.        ]\n",
            " [1.98757799 1.        ]\n",
            " [1.99225246 1.        ]\n",
            " [2.01117542 1.        ]\n",
            " [1.99390971 1.        ]\n",
            " [1.99548122 1.        ]\n",
            " [2.012279   1.        ]\n",
            " [2.00368213 1.        ]\n",
            " [1.99252498 1.        ]\n",
            " [1.99547321 1.        ]\n",
            " [1.99851369 1.        ]\n",
            " [2.00784065 1.        ]\n",
            " [1.99563274 1.        ]\n",
            " [2.00169754 1.        ]\n",
            " [1.99142935 1.        ]\n",
            " [1.98535071 1.        ]\n",
            " [1.99434359 1.        ]\n",
            " [1.99542948 1.        ]\n",
            " [1.99835616 1.        ]\n",
            " [1.99976881 1.        ]\n",
            " [1.99781394 1.        ]\n",
            " [1.99812631 1.        ]\n",
            " [1.99448067 1.        ]\n",
            " [1.9714586  1.        ]\n",
            " [1.99450422 1.        ]\n",
            " [1.98825599 1.        ]\n",
            " [2.00620369 1.        ]\n",
            " [2.01671799 1.        ]\n",
            " [1.9985686  1.        ]\n",
            " [2.00753247 1.        ]\n",
            " [2.0127108  1.        ]\n",
            " [2.00433098 1.        ]\n",
            " [1.98792452 1.        ]\n",
            " [2.01049439 1.        ]\n",
            " [1.99859746 1.        ]\n",
            " [1.99390895 1.        ]\n",
            " [2.00456314 1.        ]\n",
            " [1.99820514 1.        ]\n",
            " [2.01064931 1.        ]\n",
            " [2.01697181 1.        ]\n",
            " [2.01534662 1.        ]\n",
            " [1.97546901 1.        ]\n",
            " [2.000886   1.        ]\n",
            " [1.9916155  1.        ]\n",
            " [2.018889   1.        ]\n",
            " [2.0099864  1.        ]\n",
            " [2.00188401 1.        ]\n",
            " [2.00374301 1.        ]\n",
            " [1.99496079 1.        ]\n",
            " [2.01323868 1.        ]\n",
            " [1.99888289 1.        ]\n",
            " [2.01561559 1.        ]\n",
            " [1.99077157 1.        ]\n",
            " [1.99881347 1.        ]\n",
            " [1.99813504 1.        ]\n",
            " [1.99374024 1.        ]\n",
            " [2.00427699 1.        ]\n",
            " [1.98131342 1.        ]\n",
            " [1.99563763 1.        ]\n",
            " [2.00608243 1.        ]\n",
            " [2.0025584  1.        ]\n",
            " [2.00412936 1.        ]\n",
            " [1.9978487  1.        ]\n",
            " [2.00320268 1.        ]\n",
            " [1.98878959 1.        ]\n",
            " [1.98413916 1.        ]\n",
            " [1.99812148 1.        ]\n",
            " [1.98841898 1.        ]\n",
            " [1.99931096 1.        ]\n",
            " [1.99232641 1.        ]\n",
            " [2.00040557 1.        ]\n",
            " [1.99632993 1.        ]\n",
            " [2.00394018 1.        ]\n",
            " [1.98754761 1.        ]\n",
            " [1.99620247 1.        ]\n",
            " [1.99655195 1.        ]\n",
            " [1.99305848 1.        ]\n",
            " [2.01401191 1.        ]\n",
            " [2.00743104 1.        ]\n",
            " [2.00333005 1.        ]\n",
            " [1.9981978  1.        ]\n",
            " [1.99073286 1.        ]\n",
            " [2.00236546 1.        ]\n",
            " [1.99309696 1.        ]\n",
            " [2.01586128 1.        ]\n",
            " [2.00179832 1.        ]\n",
            " [1.99641061 1.        ]\n",
            " [1.99709276 1.        ]\n",
            " [2.00802609 1.        ]\n",
            " [1.98253824 1.        ]\n",
            " [1.99554218 1.        ]\n",
            " [1.99026051 1.        ]\n",
            " [1.98439532 1.        ]\n",
            " [1.99480479 1.        ]\n",
            " [1.99038759 1.        ]\n",
            " [2.00890581 1.        ]\n",
            " [1.99119315 1.        ]\n",
            " [2.00124668 1.        ]\n",
            " [2.01475293 1.        ]]\n"
          ]
        },
        {
          "output_type": "stream",
          "name": "stderr",
          "text": [
            "/usr/local/lib/python3.7/dist-packages/ipykernel_launcher.py:2: FutureWarning: `rcond` parameter will change to the default of machine precision times ``max(M, N)`` where M and N are the input matrix dimensions.\n",
            "To use the future default and silence this warning we advise to pass `rcond=None`, to keep using the old, explicitly pass `rcond=-1`.\n",
            "  \n"
          ]
        }
      ]
    },
    {
      "cell_type": "code",
      "metadata": {
        "colab": {
          "base_uri": "https://localhost:8080/",
          "height": 295
        },
        "id": "CEeWD5qSSOVT",
        "outputId": "c8aaf90a-0a11-44db-f249-f792bdb30892"
      },
      "source": [
        "#plotting of the graph using predefined function\n",
        "plt.plot(X, Y, 'o', label='Given Data', markersize=7)\n",
        "plt.plot(X, [Beta1*x + Beta0 for x in X], 'r', label='Fitted line')\n",
        "plt.xlabel(\"X Axis- Values\")\n",
        "plt.ylabel(\"Y Axix-Values\")\n",
        "plt.title(\"Linear Regression Graph using Predefined Function\")\n",
        "plt.legend()\n",
        "plt.show()"
      ],
      "execution_count": 12,
      "outputs": [
        {
          "output_type": "display_data",
          "data": {
            "image/png": "[encoded data removed]",
            "text/plain": [
              "<Figure size 432x288 with 1 Axes>"
            ]
          },
          "metadata": {
            "needs_background": "light"
          }
        }
      ]
    }
  ]
}