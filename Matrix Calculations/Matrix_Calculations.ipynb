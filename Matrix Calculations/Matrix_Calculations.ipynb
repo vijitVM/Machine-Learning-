{
  "nbformat": 4,
  "nbformat_minor": 0,
  "metadata": {
    "colab": {
      "name": "Matrix Calculations.ipynb",
      "provenance": [],
      "collapsed_sections": []
    },
    "kernelspec": {
      "name": "python3",
      "display_name": "Python 3"
    },
    "language_info": {
      "name": "python"
    }
  },
  "cells": [
    {
      "cell_type": "code",
      "metadata": {
        "id": "bnRi4ZrJh19Q"
      },
      "source": [
        "import numpy as np\n",
        "import matplotlib.pyplot as plt\n",
        "import pandas as pd "
      ],
      "execution_count": 1,
      "outputs": []
    },
    {
      "cell_type": "markdown",
      "metadata": {
        "id": "1Cjy9iZgh_h5"
      },
      "source": [
        "**Matrix Manipulations and Calcuations**"
      ]
    },
    {
      "cell_type": "markdown",
      "metadata": {
        "id": "7oOkOsSViO0e"
      },
      "source": [
        "We are going to create a Matrix and perform the following:\n",
        "\n",
        "\n",
        "1.   Matrix multiplied by a vector and its sum \n",
        "2.   Finding the new vector mean and Stand Deviation \n",
        "3.   Plotting the new vector values on a histogram (5 bins)\n",
        "\n"
      ]
    },
    {
      "cell_type": "code",
      "metadata": {
        "id": "AUyEXomXh7W1"
      },
      "source": [
        "# create an array with random values\n",
        "def random_array(s, n,m):\n",
        "  m = m \n",
        "  n = n\n",
        "  A = np.random.randint(s,size=(n,m))\n",
        "  return A"
      ],
      "execution_count": 2,
      "outputs": []
    },
    {
      "cell_type": "code",
      "metadata": {
        "colab": {
          "base_uri": "https://localhost:8080/"
        },
        "id": "hrS-JwNiknN-",
        "outputId": "51a38747-0117-41b4-9ed6-06b9d33a34d1"
      },
      "source": [
        "print(random_array(5,100,20))"
      ],
      "execution_count": 3,
      "outputs": [
        {
          "output_type": "stream",
          "name": "stdout",
          "text": [
            "[[2 3 4 ... 1 0 4]\n",
            " [1 4 2 ... 2 3 0]\n",
            " [2 0 1 ... 1 3 2]\n",
            " ...\n",
            " [3 4 0 ... 4 1 4]\n",
            " [0 4 1 ... 2 3 0]\n",
            " [2 3 2 ... 3 2 3]]\n"
          ]
        }
      ]
    },
    {
      "cell_type": "code",
      "metadata": {
        "id": "yi-fEZVclGSk"
      },
      "source": [
        "# Create a Normal Distribution Vector with mu as 2 , sigma as 0.01 and size as 20.\n",
        "\n",
        "def normal_dist(mu,sigma,m,n):\n",
        "  m = m \n",
        "  n = n\n",
        "  V = np.random.normal(mu,sigma,size=(m,n))\n",
        "  return V"
      ],
      "execution_count": 4,
      "outputs": []
    },
    {
      "cell_type": "code",
      "metadata": {
        "colab": {
          "base_uri": "https://localhost:8080/"
        },
        "id": "Vm1SbDItlW04",
        "outputId": "ffe26199-7484-42ac-e09d-2f9eb728c30e"
      },
      "source": [
        "print(normal_dist(2,0.01,20,1))"
      ],
      "execution_count": 5,
      "outputs": [
        {
          "output_type": "stream",
          "name": "stdout",
          "text": [
            "[[2.00357846]\n",
            " [1.99742571]\n",
            " [1.9936326 ]\n",
            " [1.995775  ]\n",
            " [1.98840947]\n",
            " [1.9960854 ]\n",
            " [2.00654401]\n",
            " [1.99800827]\n",
            " [1.98859718]\n",
            " [1.99007548]\n",
            " [2.00484577]\n",
            " [1.98640202]\n",
            " [2.00343278]\n",
            " [2.01666804]\n",
            " [2.0139417 ]\n",
            " [2.0143135 ]\n",
            " [2.01362085]\n",
            " [1.99653932]\n",
            " [1.99462358]\n",
            " [2.01063806]]\n"
          ]
        }
      ]
    },
    {
      "cell_type": "code",
      "metadata": {
        "id": "pDdh0gyKmOyM"
      },
      "source": [
        "# Multiply the Matrix with the Vector and get the sum as a New Vector\n",
        "\n",
        "def result_vector(s,mu,sigma,m,n,o):\n",
        "  return random_array(s,n,m).dot(normal_dist(mu ,sigma,m,o))\n"
      ],
      "execution_count": 6,
      "outputs": []
    },
    {
      "cell_type": "code",
      "metadata": {
        "colab": {
          "base_uri": "https://localhost:8080/"
        },
        "id": "HjJwVxvyo6P4",
        "outputId": "e2b58b9f-f566-45e8-dffe-8f1a9f0d63cb"
      },
      "source": [
        "C = result_vector(5,2,0.01,20,100,1)\n",
        "print(C)"
      ],
      "execution_count": 7,
      "outputs": [
        {
          "output_type": "stream",
          "name": "stdout",
          "text": [
            "[[ 86.02437078]\n",
            " [ 88.11881186]\n",
            " [ 94.15358218]\n",
            " [ 73.98819528]\n",
            " [ 96.10532227]\n",
            " [ 72.05200318]\n",
            " [ 72.17113915]\n",
            " [ 88.05579096]\n",
            " [ 74.04152318]\n",
            " [ 66.05344026]\n",
            " [ 84.04200762]\n",
            " [ 79.92012505]\n",
            " [ 76.01287093]\n",
            " [ 47.96968913]\n",
            " [ 88.06935887]\n",
            " [ 91.96592549]\n",
            " [ 71.97051016]\n",
            " [ 74.11158726]\n",
            " [ 68.04625162]\n",
            " [ 56.03578955]\n",
            " [ 92.15115907]\n",
            " [113.96468358]\n",
            " [ 79.99908529]\n",
            " [ 71.89485219]\n",
            " [ 92.07375086]\n",
            " [ 88.09285322]\n",
            " [ 76.04502712]\n",
            " [ 50.1326924 ]\n",
            " [ 88.00063586]\n",
            " [ 76.04923452]\n",
            " [ 96.0503089 ]\n",
            " [ 62.0501091 ]\n",
            " [ 77.86816734]\n",
            " [ 66.06492427]\n",
            " [ 74.07873254]\n",
            " [ 66.01033592]\n",
            " [ 70.06324931]\n",
            " [ 62.11783318]\n",
            " [ 87.96559192]\n",
            " [ 85.9649901 ]\n",
            " [ 52.0454823 ]\n",
            " [ 88.06222554]\n",
            " [ 71.91279097]\n",
            " [ 72.04749288]\n",
            " [ 78.0558269 ]\n",
            " [ 90.02255986]\n",
            " [ 82.15746063]\n",
            " [ 89.98223956]\n",
            " [ 67.92147196]\n",
            " [ 60.13899109]\n",
            " [ 62.03365213]\n",
            " [ 65.92382401]\n",
            " [ 80.07441255]\n",
            " [ 92.11613481]\n",
            " [ 67.89701593]\n",
            " [ 74.10576854]\n",
            " [ 88.14350794]\n",
            " [ 77.99458146]\n",
            " [ 90.04917179]\n",
            " [ 75.96569308]\n",
            " [ 80.05709854]\n",
            " [ 84.01340801]\n",
            " [106.02021808]\n",
            " [ 94.12124113]\n",
            " [ 72.07245505]\n",
            " [ 81.9564914 ]\n",
            " [ 83.95250065]\n",
            " [ 54.08427734]\n",
            " [ 38.08041641]\n",
            " [ 78.03819233]\n",
            " [ 84.11459592]\n",
            " [115.97765251]\n",
            " [ 74.00507998]\n",
            " [ 82.03910036]\n",
            " [ 68.06044788]\n",
            " [ 90.18190478]\n",
            " [ 78.01381764]\n",
            " [ 72.16284948]\n",
            " [ 96.02397983]\n",
            " [ 57.97118582]\n",
            " [ 86.05239702]\n",
            " [ 76.03660827]\n",
            " [ 82.00636239]\n",
            " [ 78.04609702]\n",
            " [ 74.10798804]\n",
            " [ 96.00822486]\n",
            " [ 73.99227135]\n",
            " [ 74.01076207]\n",
            " [ 72.0407933 ]\n",
            " [ 77.93088261]\n",
            " [ 80.01786369]\n",
            " [ 56.18083526]\n",
            " [ 94.07852812]\n",
            " [ 72.03843855]\n",
            " [ 87.93579204]\n",
            " [ 73.96370659]\n",
            " [101.99469739]\n",
            " [ 72.06431813]\n",
            " [ 70.02178952]\n",
            " [ 76.02038647]]\n"
          ]
        }
      ]
    },
    {
      "cell_type": "code",
      "metadata": {
        "id": "6q-gW91dpUM0"
      },
      "source": [
        "# Finding the Mean and Standard Deviation \n",
        "\n",
        "def stats():\n",
        "  x =np.mean(C)\n",
        "  y =np.std(C)\n",
        "  return x , y "
      ],
      "execution_count": 8,
      "outputs": []
    },
    {
      "cell_type": "code",
      "metadata": {
        "colab": {
          "base_uri": "https://localhost:8080/"
        },
        "id": "2gIyECvBpvV5",
        "outputId": "7f3eec72-7d11-4c61-d26b-63dce3ffcbe0"
      },
      "source": [
        "print(stats())"
      ],
      "execution_count": 9,
      "outputs": [
        {
          "output_type": "stream",
          "name": "stdout",
          "text": [
            "(78.17692471213891, 13.234306630069247)\n"
          ]
        }
      ]
    },
    {
      "cell_type": "code",
      "metadata": {
        "id": "1v7eWQKGwpmF"
      },
      "source": [
        "# Plotting the Histogram for the Vector based on the bin dimension.\n",
        "def plot(C,bins):\n",
        "  plt.hist(C,bins,color=\"Orange\",ec=\"black\")\n",
        "  plt.xlabel(\"Values\")\n",
        "  plt.ylabel(\"Frequency\")\n",
        "  plt.title(\"Histogram\")\n",
        "hist =  plt.show()"
      ],
      "execution_count": 10,
      "outputs": []
    },
    {
      "cell_type": "code",
      "metadata": {
        "colab": {
          "base_uri": "https://localhost:8080/",
          "height": 312
        },
        "id": "Zx-EPdr9smC-",
        "outputId": "68274d5a-1ea6-491a-c1f8-5eeabed35235"
      },
      "source": [
        "print(plot(C,5))"
      ],
      "execution_count": 11,
      "outputs": [
        {
          "output_type": "stream",
          "name": "stdout",
          "text": [
            "None\n"
          ]
        },
        {
          "output_type": "display_data",
          "data": {
            "image/png": "[encoded data removed]",
            "text/plain": [
              "<Figure size 432x288 with 1 Axes>"
            ]
          },
          "metadata": {
            "needs_background": "light"
          }
        }
      ]
    }
  ]
}