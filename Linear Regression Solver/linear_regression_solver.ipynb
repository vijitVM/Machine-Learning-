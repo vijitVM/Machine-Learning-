{
  "nbformat": 4,
  "nbformat_minor": 0,
  "metadata": {
    "colab": {
      "name": "linear regression solver.ipynb",
      "provenance": [],
      "collapsed_sections": []
    },
    "kernelspec": {
      "name": "python3",
      "display_name": "Python 3"
    },
    "language_info": {
      "name": "python"
    }
  },
  "cells": [
    {
      "cell_type": "code",
      "metadata": {
        "id": "UNfpM2uHZq5h"
      },
      "source": [
        "import numpy as np \n",
        "import pandas as pd \n",
        "import matplotlib.pyplot as plt \n",
        "import math \n",
        "from google.colab import drive \n",
        "import os "
      ],
      "execution_count": 1,
      "outputs": []
    },
    {
      "cell_type": "markdown",
      "metadata": {
        "id": "nPtL4PRraX7U"
      },
      "source": [
        "**Mount Drive**"
      ]
    },
    {
      "cell_type": "code",
      "metadata": {
        "colab": {
          "base_uri": "https://localhost:8080/"
        },
        "id": "ZcTYvPg2aMXb",
        "outputId": "18e7eca0-a4e1-4532-e10e-0a140aad69cc"
      },
      "source": [
        "drive.mount('/content/drive', force_remount=True)"
      ],
      "execution_count": 2,
      "outputs": [
        {
          "output_type": "stream",
          "name": "stdout",
          "text": [
            "Mounted at /content/drive\n"
          ]
        }
      ]
    },
    {
      "cell_type": "code",
      "metadata": {
        "colab": {
          "base_uri": "https://localhost:8080/"
        },
        "id": "6HBQ_XDqaqan",
        "outputId": "3264e175-5ff6-4c49-808c-8f5ad3326e43"
      },
      "source": [
        "%cd /content/drive/My\\ Drive/"
      ],
      "execution_count": 3,
      "outputs": [
        {
          "output_type": "stream",
          "name": "stdout",
          "text": [
            "/content/drive/My Drive\n"
          ]
        }
      ]
    },
    {
      "cell_type": "code",
      "metadata": {
        "id": "0bjDDTEMauKY"
      },
      "source": [
        "os.chdir('/content/drive/My Drive/Colab Notebooks/Machine Learning/linear regression')"
      ],
      "execution_count": 4,
      "outputs": []
    },
    {
      "cell_type": "code",
      "metadata": {
        "colab": {
          "base_uri": "https://localhost:8080/",
          "height": 204
        },
        "id": "COIuZCuNbAAi",
        "outputId": "cd2fa984-b20b-42d2-c5d1-ee25ad89cef3"
      },
      "source": [
        "# Load the CSV file into a pandas dataframe\n",
        "path =\"Data\"\n",
        "housedata = pd.read_csv(path+\"/house.csv\")\n",
        "housedata.head(5)"
      ],
      "execution_count": 5,
      "outputs": [
        {
          "output_type": "execute_result",
          "data": {
            "text/html": [
              "<div>\n",
              "<style scoped>\n",
              "    .dataframe tbody tr th:only-of-type {\n",
              "        vertical-align: middle;\n",
              "    }\n",
              "\n",
              "    .dataframe tbody tr th {\n",
              "        vertical-align: top;\n",
              "    }\n",
              "\n",
              "    .dataframe thead th {\n",
              "        text-align: right;\n",
              "    }\n",
              "</style>\n",
              "<table border=\"1\" class=\"dataframe\">\n",
              "  <thead>\n",
              "    <tr style=\"text-align: right;\">\n",
              "      <th></th>\n",
              "      <th>home</th>\n",
              "      <th>nbhd</th>\n",
              "      <th>offers</th>\n",
              "      <th>sqft</th>\n",
              "      <th>brick</th>\n",
              "      <th>bedrooms</th>\n",
              "      <th>bathrooms</th>\n",
              "      <th>price</th>\n",
              "    </tr>\n",
              "  </thead>\n",
              "  <tbody>\n",
              "    <tr>\n",
              "      <th>0</th>\n",
              "      <td>1</td>\n",
              "      <td>nbhd02</td>\n",
              "      <td>2</td>\n",
              "      <td>1790</td>\n",
              "      <td>No</td>\n",
              "      <td>2</td>\n",
              "      <td>2</td>\n",
              "      <td>114300</td>\n",
              "    </tr>\n",
              "    <tr>\n",
              "      <th>1</th>\n",
              "      <td>2</td>\n",
              "      <td>nbhd02</td>\n",
              "      <td>3</td>\n",
              "      <td>2030</td>\n",
              "      <td>No</td>\n",
              "      <td>4</td>\n",
              "      <td>2</td>\n",
              "      <td>114200</td>\n",
              "    </tr>\n",
              "    <tr>\n",
              "      <th>2</th>\n",
              "      <td>3</td>\n",
              "      <td>nbhd02</td>\n",
              "      <td>1</td>\n",
              "      <td>1740</td>\n",
              "      <td>No</td>\n",
              "      <td>3</td>\n",
              "      <td>2</td>\n",
              "      <td>114800</td>\n",
              "    </tr>\n",
              "    <tr>\n",
              "      <th>3</th>\n",
              "      <td>4</td>\n",
              "      <td>nbhd02</td>\n",
              "      <td>3</td>\n",
              "      <td>1980</td>\n",
              "      <td>No</td>\n",
              "      <td>3</td>\n",
              "      <td>2</td>\n",
              "      <td>94700</td>\n",
              "    </tr>\n",
              "    <tr>\n",
              "      <th>4</th>\n",
              "      <td>5</td>\n",
              "      <td>nbhd02</td>\n",
              "      <td>3</td>\n",
              "      <td>2130</td>\n",
              "      <td>No</td>\n",
              "      <td>3</td>\n",
              "      <td>3</td>\n",
              "      <td>119800</td>\n",
              "    </tr>\n",
              "  </tbody>\n",
              "</table>\n",
              "</div>"
            ],
            "text/plain": [
              "   home    nbhd  offers  sqft brick  bedrooms  bathrooms   price\n",
              "0     1  nbhd02       2  1790    No         2          2  114300\n",
              "1     2  nbhd02       3  2030    No         4          2  114200\n",
              "2     3  nbhd02       1  1740    No         3          2  114800\n",
              "3     4  nbhd02       3  1980    No         3          2   94700\n",
              "4     5  nbhd02       3  2130    No         3          3  119800"
            ]
          },
          "metadata": {},
          "execution_count": 5
        }
      ]
    },
    {
      "cell_type": "markdown",
      "metadata": {
        "id": "qLN79JYk4MVi"
      },
      "source": [
        "Convert the text features to numeric values. "
      ]
    },
    {
      "cell_type": "code",
      "metadata": {
        "id": "5GR6oopsefZk"
      },
      "source": [
        "def convert_text(text):\n",
        "\n",
        "  if type(text) == pd.core.series.Series:\n",
        "    new_dict ={}\n",
        "    value = 1\n",
        "    for key in text.unique():\n",
        "      new_dict[key] = value\n",
        "      value = value + 1\n",
        "\n",
        "    text = text.apply(lambda s: new_dict[s])\n",
        "    return new_dict, text\n"
      ],
      "execution_count": 6,
      "outputs": []
    },
    {
      "cell_type": "code",
      "metadata": {
        "id": "rQf_kKHS4bG0"
      },
      "source": [
        "nbhdfeature , housedata['nbhd'] = convert_text(housedata['nbhd'])\n",
        "brickfeature , housedata['brick'] = convert_text(housedata['brick'])"
      ],
      "execution_count": 7,
      "outputs": []
    },
    {
      "cell_type": "code",
      "metadata": {
        "colab": {
          "base_uri": "https://localhost:8080/",
          "height": 204
        },
        "id": "hEuOl3ol5AYi",
        "outputId": "043bbab3-1046-434a-ef75-d38fbcac80d5"
      },
      "source": [
        "housedata.head(5)"
      ],
      "execution_count": 8,
      "outputs": [
        {
          "output_type": "execute_result",
          "data": {
            "text/html": [
              "<div>\n",
              "<style scoped>\n",
              "    .dataframe tbody tr th:only-of-type {\n",
              "        vertical-align: middle;\n",
              "    }\n",
              "\n",
              "    .dataframe tbody tr th {\n",
              "        vertical-align: top;\n",
              "    }\n",
              "\n",
              "    .dataframe thead th {\n",
              "        text-align: right;\n",
              "    }\n",
              "</style>\n",
              "<table border=\"1\" class=\"dataframe\">\n",
              "  <thead>\n",
              "    <tr style=\"text-align: right;\">\n",
              "      <th></th>\n",
              "      <th>home</th>\n",
              "      <th>nbhd</th>\n",
              "      <th>offers</th>\n",
              "      <th>sqft</th>\n",
              "      <th>brick</th>\n",
              "      <th>bedrooms</th>\n",
              "      <th>bathrooms</th>\n",
              "      <th>price</th>\n",
              "    </tr>\n",
              "  </thead>\n",
              "  <tbody>\n",
              "    <tr>\n",
              "      <th>0</th>\n",
              "      <td>1</td>\n",
              "      <td>1</td>\n",
              "      <td>2</td>\n",
              "      <td>1790</td>\n",
              "      <td>1</td>\n",
              "      <td>2</td>\n",
              "      <td>2</td>\n",
              "      <td>114300</td>\n",
              "    </tr>\n",
              "    <tr>\n",
              "      <th>1</th>\n",
              "      <td>2</td>\n",
              "      <td>1</td>\n",
              "      <td>3</td>\n",
              "      <td>2030</td>\n",
              "      <td>1</td>\n",
              "      <td>4</td>\n",
              "      <td>2</td>\n",
              "      <td>114200</td>\n",
              "    </tr>\n",
              "    <tr>\n",
              "      <th>2</th>\n",
              "      <td>3</td>\n",
              "      <td>1</td>\n",
              "      <td>1</td>\n",
              "      <td>1740</td>\n",
              "      <td>1</td>\n",
              "      <td>3</td>\n",
              "      <td>2</td>\n",
              "      <td>114800</td>\n",
              "    </tr>\n",
              "    <tr>\n",
              "      <th>3</th>\n",
              "      <td>4</td>\n",
              "      <td>1</td>\n",
              "      <td>3</td>\n",
              "      <td>1980</td>\n",
              "      <td>1</td>\n",
              "      <td>3</td>\n",
              "      <td>2</td>\n",
              "      <td>94700</td>\n",
              "    </tr>\n",
              "    <tr>\n",
              "      <th>4</th>\n",
              "      <td>5</td>\n",
              "      <td>1</td>\n",
              "      <td>3</td>\n",
              "      <td>2130</td>\n",
              "      <td>1</td>\n",
              "      <td>3</td>\n",
              "      <td>3</td>\n",
              "      <td>119800</td>\n",
              "    </tr>\n",
              "  </tbody>\n",
              "</table>\n",
              "</div>"
            ],
            "text/plain": [
              "   home  nbhd  offers  sqft  brick  bedrooms  bathrooms   price\n",
              "0     1     1       2  1790      1         2          2  114300\n",
              "1     2     1       3  2030      1         4          2  114200\n",
              "2     3     1       1  1740      1         3          2  114800\n",
              "3     4     1       3  1980      1         3          2   94700\n",
              "4     5     1       3  2130      1         3          3  119800"
            ]
          },
          "metadata": {},
          "execution_count": 8
        }
      ]
    },
    {
      "cell_type": "markdown",
      "metadata": {
        "id": "xSYqfJs15KRq"
      },
      "source": [
        "Now I will split the dataset based on the train and test parameters and the trainsetsize value."
      ]
    },
    {
      "cell_type": "code",
      "metadata": {
        "id": "eqaR4i8E5H27"
      },
      "source": [
        "def split(data, size):\n",
        "  train = data.sample(frac = size)\n",
        "  test = data.drop(train.index)\n",
        "  return train , test"
      ],
      "execution_count": 9,
      "outputs": []
    },
    {
      "cell_type": "markdown",
      "metadata": {
        "id": "-ZhxuMuy7LDG"
      },
      "source": [
        "Now we will sove the problem using three different techniques \\\n",
        "1. Gausiian Solver \n",
        "2. Cholesky Decompostion \n",
        "3. QR Decomposition "
      ]
    },
    {
      "cell_type": "markdown",
      "metadata": {
        "id": "KH351zss7SI9"
      },
      "source": [
        "**Gausian Mixture Solver**\n",
        "\n"
      ]
    },
    {
      "cell_type": "code",
      "metadata": {
        "id": "G4KRmwdc7Rbi"
      },
      "source": [
        "def gauss_method(a,b):\n",
        "  augmentedMatrix = np.hstack((a,b)) * 1.0\n",
        "  n = augmentedMatrix.shape[0]\n",
        "  for i in range(0, n):\n",
        "        \n",
        "        \"\"\"Set default pivot value as diagonal matrix \"\"\"\n",
        "        pivot = augmentedMatrix[i][i]\n",
        "        pivotRow = i\n",
        "        \n",
        "        \"\"\"Check for a bigger pivot value\"\"\"\n",
        "        for j in range(i+1, n):\n",
        "            if abs(augmentedMatrix[j][i]) > abs(pivot):\n",
        "                pivot = augmentedMatrix[j][i]\n",
        "                pivotRow = j\n",
        "                \n",
        "        \"\"\"If pivot has changed. Swap the rows\"\"\"\n",
        "        if pivotRow != i:\n",
        "            for j in range(0, n+1):\n",
        "                augmentedMatrix[pivotRow][j], augmentedMatrix[i][j] =  augmentedMatrix[i][j], augmentedMatrix[pivotRow][j]\n",
        "            \n",
        "        \"\"\"Make all the column values below pivot as zero by performing matrix row operations\"\"\"\n",
        "        for j in range(i+1, n):\n",
        "            op = -1 * (augmentedMatrix[j][i]/augmentedMatrix[i][i])\n",
        "            for k in range(0, n+1):\n",
        "                augmentedMatrix[j][k] = augmentedMatrix[j][k] + ( op * augmentedMatrix[i][k] )\n",
        "  beta = np.zeros(n)\n",
        "  for i in range(n - 1, -1,-1):\n",
        "      diff = 0\n",
        "      for k in range (i + 1, n):\n",
        "          diff = diff + (beta[k] * augmentedMatrix[i][k])\n",
        "      beta[i] = (augmentedMatrix[i][n] - diff)/augmentedMatrix[i][i]\n",
        "        \n",
        "\n",
        "  return beta"
      ],
      "execution_count": 10,
      "outputs": []
    },
    {
      "cell_type": "markdown",
      "metadata": {
        "id": "DcHLHDESHuus"
      },
      "source": [
        "**Cholesky Decompostion**"
      ]
    },
    {
      "cell_type": "code",
      "metadata": {
        "id": "7yMrCK1x6zir"
      },
      "source": [
        "def cholesky_method(a,b):\n",
        "    a = a *1\n",
        "    b = b* 1\n",
        "\n",
        "    n = a.shape[0]\n",
        "    # Create zero matrix for L\n",
        "    if a.shape[0] == a.shpae[1]:\n",
        "      L = np.zeros(shape = a.shpae)\n",
        "      # Perform the Cholesky decomposition\n",
        "      for i in range(0,n):\n",
        "        for k in range(0,n):\n",
        "          L[i][k] = a[i][k]\n",
        "          if i == k:\n",
        "            for m in range(0,j):\n",
        "              L[i][k] = L[i][k] - (L[i][m] * L[i][m])\n",
        "\n",
        "            L[i][k] = sqrt(L[i][K])\n",
        "            break;\n",
        "          base = 0\n",
        "          for m in range(0,j):\n",
        "            base = base + (L[i][m] *L[j][k])\n",
        "          L[i][k] = (L[i][k] -base)/L[j][j]\n",
        "\n",
        "      #Forward Substitution\n",
        "      y = np.zeors(n)\n",
        "      for i in range(0,n):\n",
        "        sub = 0\n",
        "        for m in range(i-1,-1,-1):\n",
        "          sub = sub + (y[m] *L[i][m])\n",
        "        y[i] = (b[i] - sub)/L[i][i]\n",
        "\n",
        "      #Backward Substitution\n",
        "      beta = np.zeros(n)\n",
        "      u = np.transpose(L)\n",
        "      for i in range(n-1,-1,1):\n",
        "        sub = 0 \n",
        "        for m in range(i+1,n):\n",
        "          sub = sub + (beta[m] * u[i][m])\n",
        "      return beta\n",
        "            \n",
        "            "
      ],
      "execution_count": 11,
      "outputs": []
    },
    {
      "cell_type": "markdown",
      "metadata": {
        "id": "UeOoijO-H0Vs"
      },
      "source": [
        "**QR Decomposition**"
      ]
    },
    {
      "cell_type": "code",
      "metadata": {
        "id": "TKem1xV0Hzdc"
      },
      "source": [
        "def QR_solver (a,b):\n",
        "  a = a*1\n",
        "  b = b*1\n",
        "  n = a.shape[1]\n",
        "  copy = np.arry(a,true)\n",
        "\n",
        "  for i in range (1, n):\n",
        "    sub = 0 \n",
        "    for k in range(i-1,-1,-1):\n",
        "      sub = sub + (np.dot(copy[:,k],copy[:,k])/np.dot(copy[:,K]),copy[:,K])*copy[:,K]\n",
        "    copy[:,i] = copy[:,i] - sub\n",
        "\n",
        "    for i in range(0,n):\n",
        "      copy[:,i] = copy[:,i]/np.sum(np.square(copy[:,i]))\n",
        "    \n",
        "    Q =copy \n",
        "    R = np.dot(np.transpose(copy),a)\n",
        "\n",
        "    b = np.dot(np.transpose(Q),b)\n",
        "\n",
        "    beta = np.zeros(n)\n",
        "    for i in range(i-1,-1,-1):\n",
        "      sub =0\n",
        "      for m in range(i+1,n):\n",
        "        sub = sub + (beta[m] * R[i][m])\n",
        "      beta[i] = (b[i] -sub)/R[i][i]\n",
        "    return beta\n"
      ],
      "execution_count": 12,
      "outputs": []
    },
    {
      "cell_type": "markdown",
      "metadata": {
        "id": "S7wSTeuxKMI8"
      },
      "source": [
        "**Calcualate the RMSE**"
      ]
    },
    {
      "cell_type": "code",
      "metadata": {
        "id": "cWPmyjeVHtY_"
      },
      "source": [
        "def rmse(y_true, y_predict):\n",
        "  n = y_true.shape[0]\n",
        "  return 1 * np.sqrt(np.sum(np.square(y_true - y_predict)))/n"
      ],
      "execution_count": 13,
      "outputs": []
    },
    {
      "cell_type": "markdown",
      "metadata": {
        "id": "LLYy1BpDKvKJ"
      },
      "source": [
        "**Calculate Linear Regression prediction**"
      ]
    },
    {
      "cell_type": "code",
      "metadata": {
        "id": "brtGbf4r7H0N"
      },
      "source": [
        "def linear_predict(X, M):\n",
        "  X = np.insert(X,0,1,axis=1)\n",
        "  return np.dot(X, np.transpose(M))"
      ],
      "execution_count": 14,
      "outputs": []
    },
    {
      "cell_type": "markdown",
      "metadata": {
        "id": "NIqqkpdkLKCB"
      },
      "source": [
        "**Calculate Normal Equation**"
      ]
    },
    {
      "cell_type": "code",
      "metadata": {
        "id": "6Qeppt0mLPDx"
      },
      "source": [
        "def normal_equationSolver(X,Y,S=gauss_method):\n",
        "  if isinstance(X,np.ndarray) and isinstance(Y,np.ndarray):\n",
        "        if X.shape[0] != Y.shape[0]:\n",
        "            raise ValueError(\"The shape of X and Y is inconsistant\")\n",
        "\n",
        "        X = np.insert(X, 0, 1, axis=1)\n",
        "        \n",
        "        Xtranspose = X.T\n",
        "        XtX = np.dot(Xtranspose,X)\n",
        "        XtY = np.dot(Xtranspose,Y)\n",
        "        return S(XtX, XtY)"
      ],
      "execution_count": 15,
      "outputs": []
    },
    {
      "cell_type": "code",
      "metadata": {
        "colab": {
          "base_uri": "https://localhost:8080/"
        },
        "id": "GNel2jpXMOYs",
        "outputId": "fc88b299-c3bf-44ed-ded0-3e3443938005"
      },
      "source": [
        "#Split the dataset innto trainset and test and then the subset xtrain,ytrain,xtest,ytest\n",
        "train, test = split(housedata,0.8)\n",
        "ytrain = pd.DataFrame(train,columns=['price']).to_numpy()\n",
        "ytest = pd.DataFrame(test,columns=['price']).to_numpy()\n",
        "print(ytrain.shape)\n",
        "print(ytest.shape)\n",
        "\n",
        "xtrain = pd.DataFrame(train,columns = ['sqft','bedrooms','bathrooms','brick','nbhd','offers']).to_numpy()\n",
        "xtest = pd.DataFrame(test,columns = ['sqft','bedrooms','bathrooms','brick','nbhd','offers']).to_numpy()"
      ],
      "execution_count": 16,
      "outputs": [
        {
          "output_type": "stream",
          "name": "stdout",
          "text": [
            "(102, 1)\n",
            "(26, 1)\n"
          ]
        }
      ]
    },
    {
      "cell_type": "code",
      "metadata": {
        "colab": {
          "base_uri": "https://localhost:8080/"
        },
        "id": "2DzuDVPabErN",
        "outputId": "9dc53927-d166-40c8-88ea-2a6b78138060"
      },
      "source": [
        "gausiansolver = normal_equationSolver(xtrain,ytrain)\n",
        "\n",
        "ypredictGausian = linear_predict(xtest,gausiansolver)\n",
        "\n",
        "print(\"RMSE\", (rmse(ytest.flatten(),ypredictGausian)))\n",
        "print(\"Average Residual\", (ytest.flatten() - ypredictGausian).mean())"
      ],
      "execution_count": 17,
      "outputs": [
        {
          "output_type": "stream",
          "name": "stdout",
          "text": [
            "RMSE 2262.187875779802\n",
            "Average Residual -4462.906894715051\n"
          ]
        }
      ]
    },
    {
      "cell_type": "code",
      "metadata": {
        "id": "GuHPa2u7cct2",
        "colab": {
          "base_uri": "https://localhost:8080/",
          "height": 295
        },
        "outputId": "1d522c3a-b3c2-451b-9234-4ecfdcdb4f08"
      },
      "source": [
        "#Plotting the Graph \n",
        "\n",
        "plt.plot(ypredictGausian - ytest.flatten(), ytest,\"ro\",label=\"ytest - ybar vs ytest\")\n",
        "plt.title(\"Plot for gaussian solver\")\n",
        "plt.xlabel(\"ytest - ybar\")\n",
        "plt.ylabel(\"ytest\")\n",
        "plt.show()"
      ],
      "execution_count": 18,
      "outputs": [
        {
          "output_type": "display_data",
          "data": {
            "image/png": "[encoded data removed]",
            "text/plain": [
              "<Figure size 432x288 with 1 Axes>"
            ]
          },
          "metadata": {
            "needs_background": "light"
          }
        }
      ]
    },
    {
      "cell_type": "markdown",
      "metadata": {
        "id": "leaUUUyktE4y"
      },
      "source": [
        "**Solving for Cholesky Decomposition**"
      ]
    },
    {
      "cell_type": "code",
      "metadata": {
        "colab": {
          "base_uri": "https://localhost:8080/"
        },
        "id": "d-S9hz0as5tQ",
        "outputId": "4917bfd9-a65a-4b24-f834-7a4ed9fc2177"
      },
      "source": [
        "#Split the dataset innto trainset and test and then the subset xtrain,ytrain,xtest,ytest\n",
        "train, test = split(housedata,0.8)\n",
        "ytrain = pd.DataFrame(train,columns=['price']).to_numpy()\n",
        "ytest = pd.DataFrame(test,columns=['price']).to_numpy()\n",
        "print(ytrain.shape)\n",
        "print(ytest.shape)\n",
        "\n",
        "xtrain = pd.DataFrame(train,columns = ['sqft','bedrooms','bathrooms','brick','nbhd','offers']).to_numpy()\n",
        "xtest = pd.DataFrame(test,columns = ['sqft','bedrooms','bathrooms','brick','nbhd','offers']).to_numpy()"
      ],
      "execution_count": 19,
      "outputs": [
        {
          "output_type": "stream",
          "name": "stdout",
          "text": [
            "(102, 1)\n",
            "(26, 1)\n"
          ]
        }
      ]
    },
    {
      "cell_type": "code",
      "metadata": {
        "colab": {
          "base_uri": "https://localhost:8080/"
        },
        "id": "6Oqn91l4tNfx",
        "outputId": "37766f95-698e-4979-8204-0a7e6a478d10"
      },
      "source": [
        "Choleskysolver = normal_equationSolver(xtrain,ytrain)\n",
        "\n",
        "ypredictCholesy = linear_predict(xtest,Choleskysolver)\n",
        "\n",
        "print(\"RMSE\", (rmse(ytest.flatten(),ypredictCholesy)))\n",
        "print(\"Average Residual\", (ytest.flatten() - ypredictCholesky).mean())"
      ],
      "execution_count": 20,
      "outputs": [
        {
          "output_type": "stream",
          "name": "stdout",
          "text": [
            "RMSE 2206.380718038221\n",
            "Average Residual 2303.0103861923903\n"
          ]
        }
      ]
    },
    {
      "cell_type": "code",
      "metadata": {
        "colab": {
          "base_uri": "https://localhost:8080/",
          "height": 295
        },
        "id": "IOmK9s8Ntb9k",
        "outputId": "35523390-32d1-411e-e66e-28330f2a8514"
      },
      "source": [
        "#Plotting the graph \n",
        "\n",
        "plt.plot(ypredictCholskey - ytest.flatten(), ytest,\"ro\",label=\"ytest - ybar vs ytest\")\n",
        "plt.title(\"Plot for Cholskey solver\")\n",
        "plt.xlabel(\"ytest - ybar\")\n",
        "plt.ylabel(\"ytest\")\n",
        "plt.show()"
      ],
      "execution_count": 21,
      "outputs": [
        {
          "output_type": "display_data",
          "data": {
            "image/png": "[encoded data removed]",
            "text/plain": [
              "<Figure size 432x288 with 1 Axes>"
            ]
          },
          "metadata": {
            "needs_background": "light"
          }
        }
      ]
    },
    {
      "cell_type": "markdown",
      "metadata": {
        "id": "-JOzyLcitnA8"
      },
      "source": [
        "**Solving for QR Decomposition**"
      ]
    },
    {
      "cell_type": "code",
      "metadata": {
        "colab": {
          "base_uri": "https://localhost:8080/"
        },
        "id": "Hhex6ejFtrJB",
        "outputId": "ad6f7b64-d2e8-4077-f5fd-ff57f21b6f7e"
      },
      "source": [
        "#Split the dataset innto trainset and test and then the subset xtrain,ytrain,xtest,ytest\n",
        "train, test = split(housedata,0.8)\n",
        "ytrain = pd.DataFrame(train,columns=['price']).to_numpy()\n",
        "ytest = pd.DataFrame(test,columns=['price']).to_numpy()\n",
        "print(ytrain.shape)\n",
        "print(ytest.shape)\n",
        "\n",
        "xtrain = pd.DataFrame(train,columns = ['sqft','bedrooms','bathrooms','brick','nbhd','offers']).to_numpy()\n",
        "xtest = pd.DataFrame(test,columns = ['sqft','bedrooms','bathrooms','brick','nbhd','offers']).to_numpy()"
      ],
      "execution_count": 22,
      "outputs": [
        {
          "output_type": "stream",
          "name": "stdout",
          "text": [
            "(102, 1)\n",
            "(26, 1)\n"
          ]
        }
      ]
    },
    {
      "cell_type": "code",
      "metadata": {
        "colab": {
          "base_uri": "https://localhost:8080/"
        },
        "id": "trufaFUStvv6",
        "outputId": "09402869-8f64-4393-d214-c021d073d819"
      },
      "source": [
        "QRsolver = normal_equationSolver(xtrain,ytrain)\n",
        "\n",
        "ypredictQR = linear_predict(xtest,QRsolver)\n",
        "\n",
        "print(\"RMSE\", (rmse(ytest.flatten(),ypredictQR)))\n",
        "print(\"Average Residual\", (ytest.flatten() - ypredictQR).mean())"
      ],
      "execution_count": 23,
      "outputs": [
        {
          "output_type": "stream",
          "name": "stdout",
          "text": [
            "RMSE 2194.452140861601\n",
            "Average Residual 577.131606515384\n"
          ]
        }
      ]
    },
    {
      "cell_type": "code",
      "metadata": {
        "colab": {
          "base_uri": "https://localhost:8080/",
          "height": 295
        },
        "id": "Eppl4OxPt5Xs",
        "outputId": "fd21e062-924c-4d43-d260-236e61c061ea"
      },
      "source": [
        "#Plotting the graph \n",
        "\n",
        "plt.plot(ypredictQR - ytest.flatten(), ytest,\"ro\",label=\"ytest - ybar vs ytest\")\n",
        "plt.title(\"Plot for QR solver\")\n",
        "plt.xlabel(\"ytest - ybar\")\n",
        "plt.ylabel(\"ytest\")\n",
        "plt.show()"
      ],
      "execution_count": 24,
      "outputs": [
        {
          "output_type": "display_data",
          "data": {
            "image/png": "[encoded data removed]",
            "text/plain": [
              "<Figure size 432x288 with 1 Axes>"
            ]
          },
          "metadata": {
            "needs_background": "light"
          }
        }
      ]
    }
  ]
}