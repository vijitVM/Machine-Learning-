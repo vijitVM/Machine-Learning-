{
  "nbformat": 4,
  "nbformat_minor": 0,
  "metadata": {
    "kernelspec": {
      "display_name": "Python 2",
      "language": "python",
      "name": "python2"
    },
    "language_info": {
      "codemirror_mode": {
        "name": "ipython",
        "version": 2
      },
      "file_extension": ".py",
      "mimetype": "text/x-python",
      "name": "python",
      "nbconvert_exporter": "python",
      "pygments_lexer": "ipython2",
      "version": "2.7.13"
    },
    "colab": {
      "name": "WordCount.ipynb",
      "provenance": []
    }
  },
  "cells": [
    {
      "cell_type": "code",
      "metadata": {
        "id": "hsvcpPm_VheI"
      },
      "source": [
        "import numpy as np\n",
        "import pandas as pd \n",
        "import matplotlib.pyplot as plt \n",
        "import os \n",
        "from google.colab import drive "
      ],
      "execution_count": 1,
      "outputs": []
    },
    {
      "cell_type": "markdown",
      "metadata": {
        "id": "osHwd_FuitFQ"
      },
      "source": [
        "**Mount Drive**"
      ]
    },
    {
      "cell_type": "markdown",
      "metadata": {
        "id": "fFvFQlL3iYe-"
      },
      "source": [
        "Mount the Google Drive and Change th Path to the current directory"
      ]
    },
    {
      "cell_type": "code",
      "metadata": {
        "colab": {
          "base_uri": "https://localhost:8080/"
        },
        "id": "jNRj47ybcTpQ",
        "outputId": "2eaf79d1-a02c-4d60-9af5-378967bbb94e"
      },
      "source": [
        "drive.mount('/content/drive', force_remount=True)\n"
      ],
      "execution_count": 2,
      "outputs": [
        {
          "output_type": "stream",
          "name": "stdout",
          "text": [
            "Mounted at /content/drive\n"
          ]
        }
      ]
    },
    {
      "cell_type": "code",
      "metadata": {
        "colab": {
          "base_uri": "https://localhost:8080/"
        },
        "id": "T30XQx-RhRYW",
        "outputId": "05962a5a-77bc-4c70-d50c-611a4e986355"
      },
      "source": [
        "%cd /content/drive/My\\ Drive/"
      ],
      "execution_count": 3,
      "outputs": [
        {
          "output_type": "stream",
          "name": "stdout",
          "text": [
            "/content/drive/My Drive\n"
          ]
        }
      ]
    },
    {
      "cell_type": "markdown",
      "metadata": {
        "id": "v6hYzRL1jj0C"
      },
      "source": [
        " **WordCount**"
      ]
    },
    {
      "cell_type": "markdown",
      "metadata": {
        "id": "i5T3kEhYjzPD"
      },
      "source": [
        "Word Count  counts the total number of times the paticuular word appears in the given document. \n",
        "\n",
        "The steps we are going to perform for our document are as follows: \n",
        "\n",
        "1. Open the given file as read only   \n",
        "2. Print the content of the given file\n",
        "3. Provide the number of charectors \n",
        "4. Provide the total number of words in the file\n",
        "5. Provide total number of lines the words are written\n",
        "\n"
      ]
    },
    {
      "cell_type": "code",
      "metadata": {
        "id": "MiK5dWIZpi9Z"
      },
      "source": [
        "os.chdir('/content/drive/My Drive/Colab Notebooks/Machine Learning/Word Count')"
      ],
      "execution_count": 4,
      "outputs": []
    },
    {
      "cell_type": "code",
      "metadata": {
        "id": "v6_ZA9_elAzW"
      },
      "source": [
        "#Open the file in the read only mode \n",
        "path =\"data\"\n",
        "word=open(path+\"/WordCount.txt\",\"r\")"
      ],
      "execution_count": 5,
      "outputs": []
    },
    {
      "cell_type": "code",
      "metadata": {
        "collapsed": true,
        "colab": {
          "base_uri": "https://localhost:8080/"
        },
        "id": "ywyBhCUeVheM",
        "outputId": "7279e03d-29bb-41de-bdd0-001bd5b0c132"
      },
      "source": [
        "# Then we  are going to read the file  and print the files text\n",
        "text=word.read()\n",
        "print(text)"
      ],
      "execution_count": 6,
      "outputs": [
        {
          "output_type": "stream",
          "name": "stdout",
          "text": [
            "Either the well was very deep, or she fell very slowly, for she had plenty of time as she went down to look about her and to wonder what was going to happen next. First, she tried to look down and make out what she was coming to, but it was too dark to see anything; then she looked at the sides of the well, and noticed that they were filled with cupboards and book-shelves; here and there she saw maps and pictures hung upon pegs. She took down a jar from one of the shelves as she passed; it was labelled `ORANGE MARMALADE', but to her great disappointment it was empty: she did not like to drop the jar for fear of killing somebody, so managed to put it into one of the cupboards as she fell past it.\n",
            "\n"
          ]
        }
      ]
    },
    {
      "cell_type": "code",
      "metadata": {
        "id": "2yXLsdkHsjuO"
      },
      "source": [
        "#Here we just assigning the length of the file and  getting charectors, words and number of lines \n",
        "#providing the number of  charectors for the file\n",
        "numchars= len(text)  "
      ],
      "execution_count": 7,
      "outputs": []
    },
    {
      "cell_type": "code",
      "metadata": {
        "id": "sY254zRVspuB"
      },
      "source": [
        "# To get number of words we are taking the length  of the entire file and splitting it to get words only.\n",
        "numwords= len(text.split())\n",
        "\n",
        "#Provivding the length of the file and spltting it based on the number of lines to get number of lines the text is written in.\n",
        "numlines= len(text.splitlines())"
      ],
      "execution_count": 8,
      "outputs": []
    },
    {
      "cell_type": "code",
      "metadata": {
        "colab": {
          "base_uri": "https://localhost:8080/"
        },
        "id": "X-blYodOsu4q",
        "outputId": "620fba06-4c47-4970-8c2a-646c806acffb"
      },
      "source": [
        "# Printing the output for our file using %\n",
        "print\"Lines: %i\\nWords %i\\nCharectors %i\" % (numlines,numwords,numchars)"
      ],
      "execution_count": 9,
      "outputs": [
        {
          "output_type": "stream",
          "name": "stdout",
          "text": [
            "Lines: 1\n",
            "Words 140\n",
            "Charectors 705\n"
          ]
        }
      ]
    }
  ]
}